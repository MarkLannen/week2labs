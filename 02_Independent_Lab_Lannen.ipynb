{
 "cells": [
  {
   "cell_type": "markdown",
   "id": "e1c5fa66-9c5c-4446-9032-b27dab496662",
   "metadata": {},
   "source": [
    "- **Graduate Introduction to Python** (Sect: V60, 34475, Spring Semester 2025)  \n",
    "- **Week 2 Independent Lab**  \n",
    "- **Mark Lannen**  \n",
    "- **March 10, 2025**\n",
    "\n",
    "Welcome to my Fahrenheit to Celsius converter"
   ]
  },
  {
   "cell_type": "code",
   "execution_count": 1,
   "id": "3587bb56-77ed-46ca-b3d2-fb98a9fc0708",
   "metadata": {},
   "outputs": [],
   "source": [
    "celsius = 0.0\n",
    "fahrenheit = 0.0\n"
   ]
  },
  {
   "cell_type": "code",
   "execution_count": 2,
   "id": "2be0e3a1-a7cc-4cd6-9919-c7eaf04a6903",
   "metadata": {},
   "outputs": [
    {
     "name": "stdin",
     "output_type": "stream",
     "text": [
      "Please provide a value, in Celsius, to convert to fahrenheit 37\n"
     ]
    }
   ],
   "source": [
    "celsius = float(input(\"Please provide a value, in Celsius, to convert to fahrenheit\"))"
   ]
  },
  {
   "cell_type": "markdown",
   "id": "09c7b038-6672-4086-9bfd-5838cfff3908",
   "metadata": {},
   "source": [
    "I cast the input value as a float to keep the decimal values in the temperature since the original variables had one decimal place."
   ]
  },
  {
   "cell_type": "code",
   "execution_count": 3,
   "id": "26679cac-1aad-4420-b699-19b0c8b77ef6",
   "metadata": {},
   "outputs": [],
   "source": [
    "fahrenheit = (9 / 5) * celsius + 32\n"
   ]
  },
  {
   "cell_type": "code",
   "execution_count": 4,
   "id": "42c938d4-d3a2-4ed5-813f-462ad58c4378",
   "metadata": {},
   "outputs": [
    {
     "name": "stdout",
     "output_type": "stream",
     "text": [
      "37 degrees Celsius is 98.6 degrees Fahrenheit.\n"
     ]
    }
   ],
   "source": [
    "print(\"%.f degrees Celsius is %.1f degrees Fahrenheit.\" % (celsius, fahrenheit))\n",
    "\n"
   ]
  },
  {
   "cell_type": "code",
   "execution_count": 5,
   "id": "6eceb4b8-2a7f-400b-ae04-dc04cb4420a7",
   "metadata": {},
   "outputs": [
    {
     "name": "stdout",
     "output_type": "stream",
     "text": [
      "The integer value of farenheit is 98\n"
     ]
    }
   ],
   "source": [
    "\n",
    "int_fahrenheit = int(fahrenheit)\n",
    "print(\"The integer value of farenheit is\", int_fahrenheit)\n"
   ]
  }
 ],
 "metadata": {
  "kernelspec": {
   "display_name": "Python 3 (ipykernel)",
   "language": "python",
   "name": "python3"
  },
  "language_info": {
   "codemirror_mode": {
    "name": "ipython",
    "version": 3
   },
   "file_extension": ".py",
   "mimetype": "text/x-python",
   "name": "python",
   "nbconvert_exporter": "python",
   "pygments_lexer": "ipython3",
   "version": "3.12.7"
  }
 },
 "nbformat": 4,
 "nbformat_minor": 5
}
