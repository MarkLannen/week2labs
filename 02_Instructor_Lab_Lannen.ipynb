{
 "cells": [
  {
   "cell_type": "markdown",
   "id": "136947c4-e057-4395-b873-a989c9008307",
   "metadata": {
    "editable": true,
    "slideshow": {
     "slide_type": ""
    },
    "tags": []
   },
   "source": [
    "UM MSBA - BGEN 632\n",
    "\n",
    "# Week 2 Instructor-led Lab\n",
    "\n",
    "In this assignment you will create basic code showcasing the concepts you learned about in the tutorial. \n",
    "\n",
    "**Create Code cells below this Markdown cell to complete the assignment. Write and run your code. To get full points, your submitted notebook must include saved output in addition to written code.** \n",
    "\n",
    "For this assignment, you are not required to create any Markdown cells but you are encouraged to do so to improve the aesthetics and organization of your lab submission. \n",
    "\n",
    "As stated in the syllabus, you <ins>must</ins> include information about your use of online resources to complete assignments, including chatbots like ChatGPT. You can include reference information within your notebooks and/or within separate files pushed to your repo on GitHub. Failure to disclose the use of online resources is a violation of course policy.\n",
    "\n",
    "## Assigning Values\n",
    "\n",
    "For this portion of the assignment, you will create variables in your notebook. You will assign a value to each variable. Please perform the following tasks and create each variable by assigning the following values:\n",
    "\n",
    "* my_int assign it a number between 1 and 20, inclusive.\n",
    "* long_a assign it the number 6,323,527,192.\n",
    "* float_pi assign it the number 3.14159\n",
    "* my_double assign it a fractional number with 13 decimals.\n",
    "* decimal_a assign it a fractional number with 20 decimals.\n",
    "* big_griz assign it the value G (uppercase).\n",
    "* my_hello assign it a greeting to the entire class.\n",
    "* my_goodbye assign it a farewell to your class.\n",
    "\n",
    "## Single Line Comments\n",
    "\n",
    "At the end of each variable, on the same line, place a single-line comment with a short description of each variable. For example, it would look like this:\n",
    "\n",
    "```\n",
    "new_double = 38.936921934     # A double with 9 decimal places\n",
    "```\n",
    "\n",
    "## Print Output\n",
    "\n",
    "Now that you have assigned values to your variables, let's print them. Output each variable individually.\n",
    "\n",
    "## Type Conversion\n",
    "\n",
    "The last task you have for this lab involves type conversion. Create new variables with the following types, names, and values. Use an explicit type conversion.\n",
    "\n",
    "* `int` named my_new_int with a number between 1 and 20, inclusive.\n",
    "* `float` named float_b with value 3.14159.\n",
    "  \n",
    "Output both variables. \n",
    "\n",
    "---"
   ]
  },
  {
   "cell_type": "markdown",
   "id": "a231f038-dfc2-4ab0-a5c0-4a8164677304",
   "metadata": {},
   "source": [
    "## Course Information\n",
    "Course Name: BGEN 632\n",
    "Graduate Program: MBA\n",
    "\n",
    "## Assignment Name\n",
    "Week 2 Instructor-led-Lab\n",
    "\n",
    "## Notebook Author\n",
    "Mark Lannen\n",
    "\n",
    "## Submissin Date\n",
    "3-10-2025"
   ]
  },
  {
   "cell_type": "code",
   "execution_count": null,
   "id": "feba12eb-a39f-4dd7-a59a-5506dcd9c173",
   "metadata": {},
   "outputs": [],
   "source": []
  }
 ],
 "metadata": {
  "kernelspec": {
   "display_name": "Python 3 (ipykernel)",
   "language": "python",
   "name": "python3"
  },
  "language_info": {
   "codemirror_mode": {
    "name": "ipython",
    "version": 3
   },
   "file_extension": ".py",
   "mimetype": "text/x-python",
   "name": "python",
   "nbconvert_exporter": "python",
   "pygments_lexer": "ipython3",
   "version": "3.12.7"
  }
 },
 "nbformat": 4,
 "nbformat_minor": 5
}
