{
 "cells": [
  {
   "cell_type": "markdown",
   "id": "e1c5fa66-9c5c-4446-9032-b27dab496662",
   "metadata": {},
   "source": [
    "- **Graduate Introduction to Python** (Sect: V60, 34475, Spring Semester 2025)  \n",
    "- **Week 2 Independent Lab**  \n",
    "- **Mark Lannen**  \n",
    "- **March 10, 2025**\n",
    "\n",
    "Welcome to my Fahrenheit to the Celsius converter"
   ]
  },
  {
   "cell_type": "code",
   "execution_count": 1,
   "id": "3587bb56-77ed-46ca-b3d2-fb98a9fc0708",
   "metadata": {},
   "outputs": [],
   "source": [
    "celsius = 0.0\n",
    "farenheit = 0.0"
   ]
  },
  {
   "cell_type": "code",
   "execution_count": 2,
   "id": "2be0e3a1-a7cc-4cd6-9919-c7eaf04a6903",
   "metadata": {},
   "outputs": [
    {
     "name": "stdin",
     "output_type": "stream",
     "text": [
      "Please provide a value, in Celsius, to convert to farenheit 32\n"
     ]
    }
   ],
   "source": [
    "celsius = float(input(\"Please provide a value, in Celsius, to convert to farenheit\"))"
   ]
  },
  {
   "cell_type": "code",
   "execution_count": 3,
   "id": "26679cac-1aad-4420-b699-19b0c8b77ef6",
   "metadata": {},
   "outputs": [],
   "source": [
    "fahrenheit = (9 / 5) * celsius + 32"
   ]
  },
  {
   "cell_type": "code",
   "execution_count": 4,
   "id": "42c938d4-d3a2-4ed5-813f-462ad58c4378",
   "metadata": {},
   "outputs": [
    {
     "name": "stdout",
     "output_type": "stream",
     "text": [
      "32.0 degrees celsius is 89.6 degrees fahrenheit.\n"
     ]
    }
   ],
   "source": [
    "print(f\"{celsius} degrees celsius is {fahrenheit} degrees fahrenheit.\")"
   ]
  }
 ],
 "metadata": {
  "kernelspec": {
   "display_name": "Python 3 (ipykernel)",
   "language": "python",
   "name": "python3"
  },
  "language_info": {
   "codemirror_mode": {
    "name": "ipython",
    "version": 3
   },
   "file_extension": ".py",
   "mimetype": "text/x-python",
   "name": "python",
   "nbconvert_exporter": "python",
   "pygments_lexer": "ipython3",
   "version": "3.12.7"
  }
 },
 "nbformat": 4,
 "nbformat_minor": 5
}
